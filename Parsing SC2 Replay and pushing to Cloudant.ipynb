{
    "metadata": {
        "language_info": {
            "codemirror_mode": {
                "name": "ipython", 
                "version": 3
            }, 
            "name": "python", 
            "version": "3.5.2", 
            "mimetype": "text/x-python", 
            "nbconvert_exporter": "python", 
            "file_extension": ".py", 
            "pygments_lexer": "ipython3"
        }, 
        "kernelspec": {
            "language": "python", 
            "display_name": "Python 3.5 (Experimental) with Spark 1.6", 
            "name": "python3"
        }
    }, 
    "nbformat": 4, 
    "cells": [
        {
            "metadata": {}, 
            "cell_type": "markdown", 
            "source": "# Parsing Starcraft 2 Replay Files and Pushing Results to Cloudant"
        }, 
        {
            "outputs": [], 
            "metadata": {
                "collapsed": false
            }, 
            "execution_count": 2, 
            "cell_type": "code", 
            "source": "# The code was removed by DSX for sharing."
        }, 
        {
            "outputs": [], 
            "metadata": {
                "collapsed": true
            }, 
            "execution_count": 3, 
            "cell_type": "code", 
            "source": "# This information you will get from Object Storage Credentials\nexample_os_cred = {\n  \"auth_url\": \"OBJECT STORAGE IDENTITY URL\",\n  \"project\": \"PROJECT\",\n  \"projectId\": \"PROJECT_ID\",\n  \"region\": \"REGION NAME\",\n  \"userId\": \"USER_ID\",\n  \"username\": \"USERNAME\",\n  \"password\": \"\"\"PASSWORD\"\"\",\n  \"domain_id\": \"DOMAIN_ID\",\n  \"domainName\": \"DOMAIN_NAME\",\n  \"container\": \"Container_NAME\",\n  \"role\": \"USER ROLE\",\n  \"auth_version\": 3 # This is the auth API version that OpenStack is set to use.\n}"
        }, 
        {
            "outputs": [], 
            "metadata": {
                "collapsed": true
            }, 
            "execution_count": 4, 
            "cell_type": "code", 
            "source": "# The code was removed by DSX for sharing."
        }, 
        {
            "outputs": [], 
            "metadata": {
                "collapsed": true
            }, 
            "execution_count": 5, 
            "cell_type": "code", 
            "source": "# This information you can get from Cloudant. Best Practice would be to generate an API key and use that for user/password\ndummy_sc2replay_creds = {\n  'url': \"YOUR_ACCOUNT.cloudant.com\",\n  'user':'USER',\n  'password':\"\"\"PASSWORD\"\"\",\n}"
        }, 
        {
            "outputs": [
                {
                    "name": "stdout", 
                    "output_type": "stream", 
                    "text": "Requirement already satisfied (use --upgrade to upgrade): sc2reader in /gpfs/global_fs01/sym_shared/YPProdSpark/user/sb0a-ecda974414af0f-a07b0cb8cd02/.local/lib/python3.5/site-packages\nRequirement already satisfied (use --upgrade to upgrade): tqdm in /gpfs/global_fs01/sym_shared/YPProdSpark/user/sb0a-ecda974414af0f-a07b0cb8cd02/.local/lib/python3.5/site-packages\nRequirement already satisfied (use --upgrade to upgrade): cloudant in /gpfs/global_fs01/sym_shared/YPProdSpark/user/sb0a-ecda974414af0f-a07b0cb8cd02/.local/lib/python3.5/site-packages\nRequirement already satisfied (use --upgrade to upgrade): mpyq>=0.2.4 in /gpfs/global_fs01/sym_shared/YPProdSpark/user/sb0a-ecda974414af0f-a07b0cb8cd02/.local/lib/python3.5/site-packages (from sc2reader)\nRequirement already satisfied (use --upgrade to upgrade): requests<3.0.0,>=2.7.0 in /gpfs/global_fs01/sym_shared/YPProdSpark/user/sb0a-ecda974414af0f-a07b0cb8cd02/.local/lib/python3.5/site-packages (from cloudant)\n"
                }
            ], 
            "metadata": {
                "collapsed": false
            }, 
            "execution_count": 6, 
            "cell_type": "code", 
            "source": "!pip install --user sc2reader tqdm cloudant"
        }, 
        {
            "outputs": [], 
            "metadata": {
                "collapsed": false
            }, 
            "execution_count": 7, 
            "cell_type": "code", 
            "source": "import json\nimport sc2reader\nimport sc2reader.engine\nfrom collections import defaultdict\nfrom datetime import datetime\nfrom tqdm import tqdm\nfrom traceback import print_exc\nfrom sc2reader.engine.plugins import APMTracker, ContextLoader, SelectionTracker\nfrom sc2reader.events import PlayerStatsEvent, UnitBornEvent, UnitDiedEvent, UnitDoneEvent, UnitTypeChangeEvent, UpgradeCompleteEvent"
        }, 
        {
            "metadata": {}, 
            "cell_type": "markdown", 
            "source": "### For parsing our events, we establish some Unit and Building groups to make things easier"
        }, 
        {
            "outputs": [], 
            "metadata": {
                "collapsed": true
            }, 
            "execution_count": 8, 
            "cell_type": "code", 
            "source": "VESPENE_UNITS = [\"Assimilator\", \"Extractor\", \"Refinery\"]\n\nSUPPLY_UNITS = [\"Overlord\", \"Overseer\", \"Pylon\", \"SupplyDepot\"]\n\nWORKER_UNITS = [\"Drone\", \"Probe\", \"SCV\", \"MULE\"]\n\nBASE_UNITS = [\"CommandCenter\", \"Nexus\", \"Hatchery\", \"Lair\", \"Hive\", \"PlanetaryFortress\", \"OrbitalCommand\"]\n\nGROUND_UNITS = [\"Barracks\", \"Factory\", \"GhostAcademy\", \"Armory\", \"RoboticsBay\", \"RoboticsFacility\", \"TemplarArchive\",\n                \"DarkShrine\", \"WarpGate\", \"SpawningPool\", \"RoachWarren\", \"HydraliskDen\", \"BanelingNest\", \"UltraliskCavern\",\n                \"LurkerDen\", \"InfestationPit\"]\n\nAIR_UNITS = [\"Starport\", \"FusionCore\", \"RoboticsFacility\", \"Stargate\", \"FleetBeacon\", \"Spire\", \"GreaterSpire\"]\n\nTECH_UNITS = [\"EngineeringBay\", \"Armory\", \"GhostAcademy\", \"TechLab\", \"FusionCore\", \"Forge\", \"CyberneticsCore\",\n              \"TwilightCouncil\", \"RoboticsFacility\", \"RoboticsBay\", \"FleetBeacon\", \"TemplarArchive\", \"DarkShrine\",\n              \"SpawningPool\", \"RoachWarren\", \"HydraliskDen\", \"BanelingNest\", \"UltraliskCavern\", \"LurkerDen\", \"Spire\",\n              \"GreaterSpire\", \"EvolutionChamber\", \"InfestationPit\"]\n\nARMY_UNITS = [\"Marine\", \"Colossus\", \"InfestorTerran\", \"Baneling\", \"Mothership\", \"MothershipCore\", \"Changeling\", \"SiegeTank\", \"Viking\", \"Reaper\",\n              \"Ghost\", \"Marauder\", \"Thor\", \"Hellion\", \"Hellbat\", \"Cyclone\", \"Liberator\", \"Medivac\", \"Banshee\", \"Raven\", \"Battlecruiser\", \"Nuke\", \"Zealot\",\n              \"Stalker\", \"HighTemplar\", \"Disruptor\", \"DarkTemplar\", \"Sentry\", \"Phoenix\", \"Carrier\", \"Oracle\", \"VoidRay\", \"Tempest\", \"WarpPrism\", \"Observer\",\n              \"Immortal\", \"Adept\", \"Zergling\", \"Overlord\", \"Hydralisk\", \"Mutalisk\", \"Ultralisk\", \"Roach\", \"Infestor\", \"Corruptor\",\n              \"BroodLord\", \"Queen\", \"Overseer\", \"Archon\", \"Broodling\", \"InfestedTerran\", \"Ravager\", \"Viper\", \"SwarmHost\"]\n\nARMY_AIR = [\"Mothership\", \"MothershipCore\", \"Viking\", \"Liberator\", \"Medivac\", \"Banshee\", \"Raven\", \"Battlecruiser\",\n            \"Viper\", \"Mutalisk\", \"Phoenix\", \"Oracle\", \"Carrier\", \"VoidRay\", \"Tempest\", \"Observer\", \"WarpPrism\", \"BroodLord\",\n            \"Corruptor\", \"Observer\", \"Overseer\"]\n\nARMY_GROUND = [k for k in ARMY_UNITS if k not in ARMY_AIR]"
        }, 
        {
            "metadata": {}, 
            "cell_type": "markdown", 
            "source": "### Then we establish our event parsers"
        }, 
        {
            "outputs": [], 
            "metadata": {
                "collapsed": true
            }, 
            "execution_count": 9, 
            "cell_type": "code", 
            "source": "def handle_count(caller, event, key, add_value, start_val=0):\n    if len(caller.players[event.unit.owner.pid][key]) == 0:\n        caller.players[event.unit.owner.pid][key].append((0, 0))\n    # Get the last value\n    last_val = caller.players[event.unit.owner.pid][key][-1][1]\n    caller.players[event.unit.owner.pid][key].append((event.frame, last_val + add_value))\n\n\ndef handle_expansion_events(caller, event):\n    if type(event) is UnitDoneEvent:\n        unit = str(event.unit).split()[0]\n        if unit in BASE_UNITS:\n            caller.players[event.unit.owner.pid][\"expansion_event\"].append((event.frame, \"+\", unit))\n            handle_count(caller, event, \"expansion_buildings\", 1, start_val=1)\n    elif type(event) is UnitDiedEvent:\n        unit = str(event.unit).split()[0]\n        if unit in BASE_UNITS:\n            caller.players[event.unit.owner.pid][\"expansion_event\"].append((event.frame, \"-\", unit))\n            handle_count(caller, event, \"expansion_buildings\", -1, start_val=1)\n    elif type(event) is UnitTypeChangeEvent:\n        if event.unit.name in BASE_UNITS:\n            caller.players[event.unit.owner.pid][\"expansion_event\"].append((event.frame, \"*\", event.unit.name))\n\n\ndef handle_worker_events(caller, event):\n    if type(event) is PlayerStatsEvent:\n        caller.players[event.pid][\"workers_active\"].append((event.frame, event.workers_active_count))\n    elif type(event) is UnitBornEvent:\n        unit = str(event.unit).split()[0]\n        if unit in WORKER_UNITS:\n            caller.players[event.control_pid][\"worker_event\"].append((event.frame, \"+\", unit))\n    elif type(event) is UnitDiedEvent:\n        unit = str(event.unit).split()[0]\n        if unit in WORKER_UNITS:\n            caller.players[event.unit.owner.pid][\"worker_event\"].append((event.frame, \"-\", unit))\n\n\ndef handle_supply_events(caller, event):\n    if type(event) is PlayerStatsEvent:\n        caller.players[event.pid][\"supply_available\"].append((event.frame, int(event.food_made)))\n        caller.players[event.pid][\"supply_consumed\"].append((event.frame, int(event.food_used)))\n        utilization = 0 if event.food_made == 0 else event.food_used / event.food_made\n        caller.players[event.pid][\"supply_utilization\"].append((event.frame, utilization))\n        worker_ratio = 0 if event.food_used == 0 else event.workers_active_count / event.food_used\n        caller.players[event.pid][\"worker_supply_ratio\"].append((event.frame, worker_ratio))\n    elif type(event) is UnitDoneEvent:\n        unit = str(event.unit).split()[0]\n        if unit in SUPPLY_UNITS:\n            caller.players[event.unit.owner.pid][\"supply_event\"].append((event.frame, \"+\", unit))\n    elif type(event) is UnitBornEvent:\n        # Specifically for Overlord\n        unit = str(event.unit).split()[0]\n        if unit == \"Overlord\":\n            caller.players[event.control_pid][\"supply_event\"].append((event.frame, \"+\", unit))\n    elif type(event) is UnitDiedEvent:\n        # Buildings/ Overlord/Overseer\n        unit = str(event.unit).split()[0]\n        if unit in SUPPLY_UNITS:\n            caller.players[event.unit.owner.pid][\"supply_event\"].append((event.frame, \"-\", unit))\n    elif type(event) is UnitTypeChangeEvent:\n        if event.unit_type_name == \"Overseer\":\n            caller.players[event.unit.owner.pid][\"supply_event\"].append((event.frame, \"*\", event.unit_type_name))\n\n\ndef handle_vespene_events(caller, event):\n    if type(event) is PlayerStatsEvent:\n        caller.players[event.pid][\"vespene_available\"].append((event.frame, event.vespene_current))\n        caller.players[event.pid][\"vespene_collection_rate\"].append((event.frame, event.vespene_collection_rate))\n        vesp_per_worker = 0 if event.workers_active_count == 0 else event.vespene_collection_rate / event.workers_active_count\n        caller.players[event.pid][\"vespene_per_worker_rate\"].append((event.frame, vesp_per_worker))\n        caller.players[event.pid][\"vespene_cost_active_forces\"].append((event.frame, event.vespene_used_active_forces))\n        caller.players[event.pid][\"vespene_spend\"].append((event.frame, event.vespene_used_current))\n        caller.players[event.pid][\"vespene_value_current_technology\"].append((event.frame, event.vespene_used_current_technology))\n        caller.players[event.pid][\"vespene_value_current_army\"].append((event.frame, event.vespene_used_current_army))\n        caller.players[event.pid][\"vespene_value_current_economic\"].append((event.frame, event.vespene_used_current_economy))\n        caller.players[event.pid][\"vespene_queued\"].append((event.frame, event.vespene_used_in_progress))\n        caller.players[event.pid][\"vespene_queued_technology\"].append((event.frame, event.vespene_used_in_progress_technology))\n        caller.players[event.pid][\"vespene_queued_army\"].append((event.frame, event.vespene_used_in_progress_technology))\n        caller.players[event.pid][\"vespene_queued_economic\"].append((event.frame, event.vespene_used_in_progress_economy))\n    elif type(event) is UnitDoneEvent:\n        unit = str(event.unit).split()[0]\n        if unit in VESPENE_UNITS:\n            caller.players[event.unit.owner.pid][\"vespene_event\"].append((event.frame, \"+\", unit))\n    elif type(event) is UnitDiedEvent:\n        unit = str(event.unit).split()[0]\n        if unit in VESPENE_UNITS:\n            caller.players[event.unit.owner.pid][\"vespene_event\"].append((event.frame, \"-\", unit))\n\n\ndef handle_resources_events(caller, event):\n    if type(event) is PlayerStatsEvent:\n        caller.players[event.pid][\"mineral_destruction\"].append((event.frame, event.minerals_killed))\n        caller.players[event.pid][\"mineral_destruction_army\"].append((event.frame, event.minerals_killed_army))\n        caller.players[event.pid][\"mineral_destruction_economic\"].append((event.frame, event.minerals_killed_economy))\n        caller.players[event.pid][\"mineral_destruction_technology\"].append((event.frame, event.minerals_killed_technology))\n        caller.players[event.pid][\"mineral_loss\"].append((event.frame, event.minerals_lost))\n        caller.players[event.pid][\"mineral_loss_army\"].append((event.frame, event.minerals_lost_army))\n        caller.players[event.pid][\"mineral_loss_economic\"].append((event.frame, event.minerals_lost_economy))\n        caller.players[event.pid][\"mineral_loss_technology\"].append((event.frame, event.minerals_lost_technology))\n\n        caller.players[event.pid][\"vespene_destruction\"].append((event.frame, event.vespene_killed))\n        caller.players[event.pid][\"vespene_destruction_army\"].append((event.frame, event.vespene_killed_army))\n        caller.players[event.pid][\"vespene_destruction_economic\"].append((event.frame, event.vespene_killed_economy))\n        caller.players[event.pid][\"vespene_destruction_technology\"].append((event.frame, event.vespene_killed_technology))\n        caller.players[event.pid][\"vespene_loss\"].append((event.frame, event.vespene_lost))\n        caller.players[event.pid][\"vespene_loss_army\"].append((event.frame, event.vespene_lost_army))\n        caller.players[event.pid][\"vespene_loss_economic\"].append((event.frame, event.vespene_lost_economy))\n        caller.players[event.pid][\"vespene_loss_technology\"].append((event.frame, event.vespene_lost_technology))\n\n\ndef handle_ground_events(caller, event):\n    if type(event) is UnitDoneEvent:\n        unit = str(event.unit).split()[0]\n        if unit in GROUND_UNITS:\n            count_name = \"_\".join([\"building\", unit, \"count\"])\n            caller.players[event.unit.owner.pid][\"ground_building\"].append((event.frame, \"+\", unit))\n            handle_count(caller, event, count_name, 1)\n    elif type(event) is UnitDiedEvent:\n        unit = str(event.unit).split()[0]\n        if unit in GROUND_UNITS:\n            count_name = \"_\".join([\"building\", unit, \"count\"])\n            caller.players[event.unit.owner.pid][\"ground_building\"].append((event.frame, \"-\", unit))\n            handle_count(caller, event, count_name, -1)\n    elif type(event) is UnitTypeChangeEvent:\n        if event.unit_type_name == \"LurkerDen\":\n            count_name = \"_\".join([\"building\", event.unit_type_name, \"count\"])\n            caller.players[event.unit.owner.pid][\"ground_building\"].append((event.frame, \"*\", event.unit_type_name))\n            handle_count(caller, event, count_name, 1)\n\n\ndef handle_air_events(caller, event):\n    if type(event) is UnitDoneEvent:\n        unit = str(event.unit).split()[0]\n        if unit in AIR_UNITS:\n            count_name = \"_\".join([\"building\", unit, \"count\"])\n            caller.players[event.unit.owner.pid][\"air_building\"].append((event.frame, \"+\", unit))\n            handle_count(caller, event, count_name, 1)\n    elif type(event) is UnitDiedEvent:\n        unit = str(event.unit).split()[0]\n        if unit in AIR_UNITS:\n            count_name = \"_\".join([\"building\", unit, \"count\"])\n            caller.players[event.unit.owner.pid][\"air_building\"].append((event.frame, \"-\", unit))\n            handle_count(caller, event, count_name, -1)\n    elif type(event) is UnitTypeChangeEvent:\n        if event.unit_type_name == \"GreaterSpire\":\n            count_name = \"_\".join([\"building\", event.unit_type_name, \"count\"])\n            caller.players[event.unit.owner.pid][\"air_building\"].append((event.frame, \"*\", event.unit_type_name))\n            handle_count(caller, event, count_name, 1)\n\n\ndef handle_unit_events(caller, event):\n    if type(event) is UnitBornEvent:\n        unit = event.unit_type_name\n        if unit in ARMY_UNITS:\n            unit_count_name = \"_\".join([\"unit\", unit, \"count\"])\n            caller.players[event.control_pid][\"army_event\"].append((event.frame, \"+\", unit))\n            handle_count(caller, event, unit_count_name, 1)\n            if unit in ARMY_AIR:\n                handle_count(caller, event, \"army_air\", 1)\n            elif unit in ARMY_GROUND:\n                handle_count(caller, event, \"army_ground\", 1)\n            handle_count(caller, event, \"army_count\", 1)\n    elif type(event) is UnitDoneEvent:\n        unit = str(event.unit).split()[0]\n        if unit in ARMY_UNITS:\n            unit_count_name = \"_\".join([\"unit\", unit, \"count\"])\n            caller.players[event.unit.owner.pid][\"army_event\"].append((event.frame, \"+\", unit))\n            handle_count(caller, event, unit_count_name, 1)\n            if unit in ARMY_AIR:\n                handle_count(caller, event, \"army_air\", 1)\n            elif unit in ARMY_GROUND:\n                handle_count(caller, event, \"army_air\", 1)\n            handle_count(caller, event, \"army_count\", 1)\n    elif type(event) is UnitDiedEvent:\n        unit = str(event.unit).split()[0]\n        if unit in ARMY_UNITS:\n            unit_count_name = \"_\".join([\"unit\", unit, \"count\"])\n            caller.players[event.unit.owner.pid][\"army_event\"].append((event.frame, \"-\", unit))\n            if unit in ARMY_AIR:\n                handle_count(caller, event, \"army_air\", -1)\n            elif unit in ARMY_GROUND:\n                handle_count(caller, event, \"army_ground\", -1)\n            handle_count(caller, event, unit_count_name, -1)\n            handle_count(caller, event, \"army_count\", -1)\n    elif type(event) is UnitTypeChangeEvent:\n        unit = str(event.unit).split()[0]\n        if event.unit_type_name in ARMY_UNITS:\n            unit_count_name = \"_\".join([\"unit\", event.unit_type_name, \"count\"])\n\n            caller.players[event.unit.owner.pid][\"army_event\"].append((event.frame, \"*\", unit))\n\n            handle_count(caller, event, unit_count_name, 1)\n\n\ndef handle_tech_events(caller, event):\n    if type(event) is UnitDoneEvent:\n        unit = str(event.unit).split()[0]\n        if unit in TECH_UNITS:\n            caller.players[event.unit.owner.pid][\"tech_building\"].append((event.frame, \"+\", unit))\n    elif type(event) is UnitDiedEvent:\n        unit = str(event.unit).split()[0]\n        if unit in TECH_UNITS:\n            caller.players[event.unit.owner.pid][\"tech_building\"].append((event.frame, \"-\", unit))\n    elif type(event) is UnitTypeChangeEvent:\n        if event.unit_type_name in [\"GreaterSpire\", \"LurkerDen\"]:\n            caller.players[event.unit.owner.pid][\"tech_building\"].append((event.frame, \"*\", event.unit_type_name))\n\n\ndef handle_upgrade_events(caller, event):\n    if type(event) is UpgradeCompleteEvent and event.frame > 0:\n        if not event.upgrade_type_name.startswith(\"Spray\"):\n            caller.players[event.pid][\"upgrades\"].append((event.frame, event.upgrade_type_name))\n\n\ndef handle_mineral_events(caller, event):\n    if type(event) is PlayerStatsEvent:\n        caller.players[event.pid][\"minerals_available\"].append((event.frame, event.minerals_current))\n        caller.players[event.pid][\"mineral_collection_rate\"].append((event.frame, event.minerals_collection_rate,))\n        caller.players[event.pid][\"mineral_cost_active_forces\"].append((event.frame, event.minerals_used_active_forces))\n        mins_per_worker = 0 if event.workers_active_count == 0 else event.minerals_collection_rate / event.workers_active_count\n        caller.players[event.pid][\"mineral_per_worker_rate\"].append((event.frame, mins_per_worker))\n        caller.players[event.pid][\"mineral_spend\"].append((event.frame, event.minerals_used_current))\n        caller.players[event.pid][\"mineral_value_current_technology\"].append((event.frame, event.minerals_used_current_technology))\n        caller.players[event.pid][\"mineral_value_current_army\"].append((event.frame, event.minerals_used_current_army))\n        caller.players[event.pid][\"mineral_value_current_economic\"].append((event.frame, event.minerals_used_current_economy))\n        caller.players[event.pid][\"mineral_queued\"].append((event.frame, event.minerals_used_in_progress))\n        caller.players[event.pid][\"mineral_queued_technology\"].append((event.frame, event.minerals_used_in_progress_technology))\n        caller.players[event.pid][\"mineral_queued_army\"].append((event.frame, event.minerals_used_in_progress_army))\n        caller.players[event.pid][\"mineral_queued_economic\"].append((event.frame, event.minerals_used_in_progress_economy))"
        }, 
        {
            "metadata": {}, 
            "cell_type": "markdown", 
            "source": "### Then we aggregate all of our event parsers for use by our ReplayData class"
        }, 
        {
            "outputs": [], 
            "metadata": {
                "collapsed": true
            }, 
            "execution_count": 10, 
            "cell_type": "code", 
            "source": "handlers = [handle_expansion_events, handle_worker_events, handle_supply_events, handle_mineral_events,\n            handle_vespene_events, handle_ground_events, handle_air_events, handle_tech_events, handle_upgrade_events,\n            handle_unit_events]"
        }, 
        {
            "metadata": {}, 
            "cell_type": "markdown", 
            "source": "### Below we define our class ReplayData for helping us structure and process our replay files"
        }, 
        {
            "outputs": [], 
            "metadata": {
                "collapsed": false
            }, 
            "execution_count": 11, 
            "cell_type": "code", 
            "source": "class ReplayData:\n    __parsers__ = handlers\n\n    @classmethod\n    def parse_replay(cls, replay_file, file_object=None):\n        \n        replay_data = ReplayData(replay_file)\n        try:\n            # This is the engine that holds some required plugins for parsing\n            engine = sc2reader.engine.GameEngine(plugins=[ContextLoader(), APMTracker(), SelectionTracker()])\n            if not file_object:\n                # Then we are not using ObjectStorage for accessing replay files\n                replay = sc2reader.load_replay(replay_file, engine=engine)\n            else:\n                # We are using ObjectStorage to access replay files\n                replay = sc2reader.load_replay(file_object, engine=engine)\n            # Get the number of frames (one frame is 1/16 of a second)\n            replay_data.frames = replay.frames\n            # Gets the game mode (if available)\n            replay_data.game_mode = replay.real_type\n            # Gets the map hash (if we want to download the map, or do map-based analysis)\n            replay_data.map_hash = replay.map_hash\n            \n            # Use the parsers to get data\n            for event in replay.events:\n                for parser in cls.__parsers__:\n                    parser(replay_data, event)\n            \n            # Check if there was a winner\n            if replay.winner is not None:\n                replay_data.winners = replay.winner.players\n                replay_data.losers = [p for p in replay.players if p not in replay.winner.players]\n            else:\n                replay_data.winners = []\n                replay_data.losers = []\n            # Check to see if expansion data is available\n            replay_data.expansion = replay.expasion\n            return replay_data\n        except:\n            #print our error and return NoneType object\n            print_exc()\n            return None\n        \n    def as_dict(self):\n        return {\n            \"processed_on\": datetime.utcnow().isoformat(),\n            \"replay_name\": self.replay,\n            \"expansion\": self.expansion,\n            \"frames\": self.frames,\n            \"mode\": self.game_mode,\n            \"map\": self.map_hash,\n            \"matchup\": \"v\".join(sorted([s.detail_data[\"race\"][0].upper() for s in self.winners + self.losers])),\n            \"winners\": [(s.pid, s.name, s.detail_data['race']) for s in self.winners],\n            \"losers\": [(s.pid, s.name, s.detail_data['race']) for s in self.losers],\n            \"stats_names\": [k for k in self.players[1].keys()],\n            \"stats\": {player: data for player, data in self.players.items()}\n                }\n\n    def __init__(self, replay):\n        self.players = defaultdict(lambda: defaultdict(list))\n        self.replay = replay\n        self.winners = []\n        self.losers = []\n        self.expansion = None"
        }, 
        {
            "metadata": {}, 
            "cell_type": "markdown", 
            "source": "# Processing Replay Files\n\nNow with the helper class and event handlers created, we can now begin to process SC2Replay files. When a Starcraft 2 game is finished, our pipeline takes the completed .SC2Replay file and pushes it to our ObjectStorage container. For this demo, we only care about the most recently completed game's replay file, so the flow should look like:\n\n1) Connect to our ObjectStorage directory \n\n2) Search for and open the most recently created \n\n3) Parse our replay file \n\n4) Push resulting data to Cloudant "
        }, 
        {
            "outputs": [
                {
                    "name": "stdout", 
                    "output_type": "stream", 
                    "text": "Parsed Replay!\nnew sc2replays entry saved. Latest id: cb61a6e4f51b7150f0bc7e71fc7ffebf\nremoving fb6848cc511bea01d5a03fffb9496c7d\nnew sc2recents entry saved. Latest id: 5f16dd272f339772c14c3ea9b7e31bcc\n"
                }
            ], 
            "metadata": {
                "collapsed": false, 
                "scrolled": false
            }, 
            "execution_count": 13, 
            "cell_type": "code", 
            "source": "# Adapted from http://datascience.ibm.com/blog/working-with-object-storage-in-data-science-experience-python-edition/\n# By the way... this approach to accessing data from objectstorage.. is TERRIBLE!!! SwiftClient is also terrible, \n# so this was the only way within DSX\n\nimport json\nimport requests \nfrom io import BytesIO\nfrom cloudant import cloudant\n\n\nurl1 = ''.join([os_cred['auth_url'], '/v3/auth/tokens'])\ndata = {'auth': {\n            'identity': {\n                'methods': ['password'],\n                'password': {\n                    'user': {\n                        'name': os_cred['username'],\n                        'domain': {\n                            'id': os_cred['domain_id']},\n                        'password': os_cred['password']}}}}}\n\nheaders1 = {'Content-Type': 'application/json'}\nresp1 = requests.post(url=url1, data=json.dumps(data), headers=headers1)\nresp1_body = resp1.json()\n# List all objects within our specified container\n\nfor entry in resp1_body['token']['catalog']:\n    if entry['type'] == 'object-store':\n        for endpoint in entry['endpoints']:\n            if endpoint['interface'] == 'public' and endpoint['region'] == os_cred['region']:\n                url2 = ''.join([endpoint['url'],'/', os_cred['container']])\n                break\n\n\ns_subject_token = resp1.headers['x-subject-token']\nheaders2 = {'X-Auth-Token': s_subject_token, 'accept': 'application/json'}\n\nobjects = requests.get(url=url2, headers=headers2)\nobjects = objects.json()\n\n# Sort the objects by last_modified\nobjects.sort(key=lambda f: f[\"last_modified\"], reverse=True)\n\n# Get the most recently added replay file\nfile = objects[0]\nfinal_url = \"/\".join([url2, file['name']])\nfinal_headers = {'X-Auth-Token': s_subject_token, 'accept': file['content_type']}\nresponse = requests.get(url=final_url, headers=final_headers, stream=True)\n\nreplay_stream = BytesIO(response.raw.read())\nreplay_object = ReplayData.parse_replay(str(file[\"name\"]), file_object=replay_stream)\n\n# Parsed!!!\nprint(\"Parsed Replay!\")\n\n# Now we need to send this data to 2 databases [\"sc2replays for aggregating, and sc2recents]\nwith cloudant(sc2replay_creds[\"user\"], sc2replay_creds[\"password\"], account=\"e-sports\") as esports:\n    session = esports.session()\n    sc2replays = esports['sc2replays']\n    document = sc2replays.create_document(replay_object.as_dict())\n    if document.exists():\n        print(\"new sc2replays entry saved. Latest id: {0}\".format(document[\"_id\"]))\n        \n    sc2recents = esports['sc2recents']\n    # clear out everything in sc2recents db\n    for d in sc2recents:\n        print(\"removing\", d[\"_id\"])\n        d.delete()\n        \n    document = sc2recents.create_document(replay_object.as_dict())\n    if document.exists():\n        print(\"new sc2recents entry saved. Latest id: {0}\".format(document[\"_id\"]))\n    "
        }, 
        {
            "outputs": [], 
            "metadata": {
                "collapsed": true
            }, 
            "execution_count": null, 
            "cell_type": "code", 
            "source": ""
        }
    ], 
    "nbformat_minor": 0
}